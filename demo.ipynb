{
 "cells": [
  {
   "attachments": {},
   "cell_type": "markdown",
   "metadata": {},
   "source": [
    "# Mathematical Reasoning with Transformers"
   ]
  },
  {
   "attachments": {},
   "cell_type": "markdown",
   "metadata": {},
   "source": [
    "## First we import all the necessary libraries"
   ]
  },
  {
   "cell_type": "code",
   "execution_count": 10,
   "metadata": {},
   "outputs": [],
   "source": [
    "from src.utils import translate\n",
    "from src.defaults import _C as cfg\n",
    "import argparse\n",
    "import os\n",
    "import pickle\n",
    "from src.model import Seq2SeqTransformer\n",
    "import torch\n",
    "from config.defaults import get_cfg_defaults\n",
    "\n",
    "mydevice = torch.device(\"cuda\" if torch.cuda.is_available() else \"cpu\")"
   ]
  },
  {
   "attachments": {},
   "cell_type": "markdown",
   "metadata": {},
   "source": [
    "## Import configuration from `defaults.py`"
   ]
  },
  {
   "cell_type": "code",
   "execution_count": 11,
   "metadata": {},
   "outputs": [],
   "source": [
    "cfg = get_cfg_defaults()\n",
    "\n",
    "cwd = os.getcwd()\n",
    "cfg.DATASET_DIR = cwd + \"/data\"\n",
    "cfg.MODEL_SAVE_PATH = cwd + \"/results/\""
   ]
  },
  {
   "attachments": {},
   "cell_type": "markdown",
   "metadata": {},
   "source": [
    "## Import vocab files"
   ]
  },
  {
   "cell_type": "code",
   "execution_count": 12,
   "metadata": {},
   "outputs": [],
   "source": [
    "with open(cfg.MODEL_SAVE_PATH + \"src_vocab.pickle\", \"rb\") as infile:\n",
    "    src_vocab = pickle.load(infile)\n",
    "    \n",
    "with open(cfg.MODEL_SAVE_PATH + \"tgt_vocab.pickle\", \"rb\") as infile:\n",
    "    tgt_vocab = pickle.load(infile)\n",
    "\n",
    "cfg.SRC_VOCAB_SIZE = len(src_vocab)\n",
    "cfg.TGT_VOCAB_SIZE = len(tgt_vocab)"
   ]
  },
  {
   "attachments": {},
   "cell_type": "markdown",
   "metadata": {},
   "source": [
    "## Instantiate transformer model and load trained model weights"
   ]
  },
  {
   "cell_type": "code",
   "execution_count": 13,
   "metadata": {},
   "outputs": [
    {
     "data": {
      "text/plain": [
       "<All keys matched successfully>"
      ]
     },
     "execution_count": 13,
     "metadata": {},
     "output_type": "execute_result"
    }
   ],
   "source": [
    "transformer = Seq2SeqTransformer(cfg.NUM_ENCODER_LAYERS, cfg.NUM_DECODER_LAYERS,\n",
    "                                 cfg.EMB_SIZE, cfg.SRC_VOCAB_SIZE, cfg.TGT_VOCAB_SIZE, cfg.NHEAD,\n",
    "                                 cfg.FFN_HID_DIM)\n",
    "\n",
    "\n",
    "transformer.load_state_dict(torch.load(cfg.MODEL_SAVE_PATH + cfg.TASK + \".pth\", map_location=mydevice))"
   ]
  },
  {
   "attachments": {},
   "cell_type": "markdown",
   "metadata": {},
   "source": [
    "## Demo using questions"
   ]
  },
  {
   "cell_type": "code",
   "execution_count": 15,
   "metadata": {},
   "outputs": [
    {
     "name": "stdout",
     "output_type": "stream",
     "text": [
      "Final predictions\n",
      "Question: What is the ten thousands digit of 62795675?\n",
      "9\n",
      "Question: What is the hundred thousands digit of 82923295?\n",
      "9\n",
      "Question: What is the tens digit of 70750657?\n",
      "5\n"
     ]
    }
   ],
   "source": [
    "q1 = \"What is the ten thousands digit of 62795675?\"\n",
    "a1 = '9'\n",
    "q2 = \"What is the hundred thousands digit of 82923295?\"\n",
    "a2 = '9'\n",
    "q3 = \"What is the tens digit of 70750657?\"\n",
    "a3 = '5'\n",
    "qs = [q1, q2 ,q3]\n",
    "a_s = [a1, a2, a3]\n",
    "\n",
    "print(\"Final predictions\")\n",
    "for q,a in zip(qs,a_s):\n",
    "    print(\"Question: \" + q)\n",
    "    print(translate(transformer, q, src_vocab, tgt_vocab, len(a), mydevice))"
   ]
  },
  {
   "cell_type": "code",
   "execution_count": 16,
   "metadata": {},
   "outputs": [
    {
     "name": "stdout",
     "output_type": "stream",
     "text": [
      "Question: What is the tens digit of 402934?\n",
      "3\n"
     ]
    }
   ],
   "source": [
    "q = 'What is the tens digit of 402934?'\n",
    "print(\"Question: \" + q)\n",
    "print(translate(transformer, q, src_vocab, tgt_vocab, len(a), mydevice))"
   ]
  },
  {
   "cell_type": "code",
   "execution_count": null,
   "metadata": {},
   "outputs": [],
   "source": []
  }
 ],
 "metadata": {
  "kernelspec": {
   "display_name": "ex",
   "language": "python",
   "name": "python3"
  },
  "language_info": {
   "codemirror_mode": {
    "name": "ipython",
    "version": 3
   },
   "file_extension": ".py",
   "mimetype": "text/x-python",
   "name": "python",
   "nbconvert_exporter": "python",
   "pygments_lexer": "ipython3",
   "version": "3.7.12"
  },
  "orig_nbformat": 4,
  "vscode": {
   "interpreter": {
    "hash": "fe679cb374bb71f865f103d1d039d9c1ac75c59919f4194bd88511820fb3fe5f"
   }
  }
 },
 "nbformat": 4,
 "nbformat_minor": 2
}
